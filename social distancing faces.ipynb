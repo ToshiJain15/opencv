{
 "cells": [
  {
   "cell_type": "code",
   "execution_count": 1,
   "metadata": {},
   "outputs": [],
   "source": [
    "import cv2\n",
    "\n",
    "faceCascade = cv2.CascadeClassifier('face.xml')\n",
    "\n",
    "img = cv2.imread('i.jpg')\n",
    "\n",
    "gray = cv2.cvtColor(img, cv2.COLOR_BGR2GRAY)\n",
    "\n",
    "faces= faceCascade.detectMultiScale(gray, scaleFactor=1.2, minNeighbors=5, minSize=(20, 20))"
   ]
  },
  {
   "cell_type": "code",
   "execution_count": 2,
   "metadata": {},
   "outputs": [
    {
     "name": "stdout",
     "output_type": "stream",
     "text": [
      "[375, 144]\n",
      "[65, 188]\n",
      "[211, 253]\n",
      "[594, 125]\n",
      "[[375, 144], [65, 188], [211, 253], [594, 125]]\n"
     ]
    }
   ],
   "source": [
    "l=[]\n",
    "\n",
    "lf=[]\n",
    "\n",
    "i=1\n",
    "\n",
    "for (x,y,w,h) in faces:\n",
    "\n",
    "    cv2.rectangle(img,(x,y),(x+w,y+h),(255,0,0),2)\n",
    "\n",
    "    s=str(i)    # Face No.\n",
    "\n",
    "    cv2.putText(img, s, (x,y), cv2.FONT_HERSHEY_SIMPLEX, 1, (0, 255, 0),2)   \n",
    "\n",
    "  # Putting text in the detected faces\n",
    "\n",
    "    i+=1\n",
    "\n",
    "    l=[]\n",
    "\n",
    "    l.append(x)\n",
    "\n",
    "    l.append(y)\n",
    "\n",
    "    lf.append(l)\n",
    "\n",
    "    \n",
    "\n",
    "    print(l)\n",
    "\n",
    "print(lf)"
   ]
  },
  {
   "cell_type": "code",
   "execution_count": 3,
   "metadata": {},
   "outputs": [
    {
     "name": "stdout",
     "output_type": "stream",
     "text": [
      "313.10701046127986\n",
      "196.91876497682998\n",
      "219.8226557932553\n",
      "159.8155186457185\n",
      "532.7382096302085\n",
      "403.8229810201495\n",
      "Person 1 and Person 3 ; Person 1 and Person 4 ; Person 2 and Person 3 ;  are not following social distancing \n"
     ]
    }
   ],
   "source": [
    "import math\n",
    "\n",
    "close_person=\"\"\n",
    "for i in range(len(lf)):\n",
    "\n",
    "    for j in range(i+1,len(lf)):\n",
    "\n",
    "        d=math.sqrt( ((lf[j][1]-lf[i][1])**2)+((lf[j][0]-lf[i][0])**2) )\n",
    "\n",
    "        print(d)\n",
    "        #print(\"P\",i+1,\"- P\",j+1,\"=\",d)\n",
    "\n",
    "        #if d<150:\n",
    "        if d<300:\n",
    "            close_person+=\"Person \"+str(i+1)+\" and Person \"+str(j+1)+\" ; \"\n",
    "\n",
    "            cv2.line(img, (lf[i][0],lf[i][1]), (lf[j][0],lf[j][1]),(0, 0, 255),2)\n",
    "\n",
    "close_person+=\" are not following social distancing \"\n",
    "\n",
    "print(close_person)     "
   ]
  },
  {
   "cell_type": "code",
   "execution_count": 4,
   "metadata": {},
   "outputs": [],
   "source": [
    "cv2.imshow('Face Distance',img)\n",
    "\n",
    "cv2.waitKey(0)\n",
    "\n",
    "cv2.destroyAllWindows() "
   ]
  },
  {
   "cell_type": "code",
   "execution_count": null,
   "metadata": {},
   "outputs": [],
   "source": []
  }
 ],
 "metadata": {
  "kernelspec": {
   "display_name": "Python 3 (ipykernel)",
   "language": "python",
   "name": "python3"
  },
  "language_info": {
   "codemirror_mode": {
    "name": "ipython",
    "version": 3
   },
   "file_extension": ".py",
   "mimetype": "text/x-python",
   "name": "python",
   "nbconvert_exporter": "python",
   "pygments_lexer": "ipython3",
   "version": "3.10.9"
  }
 },
 "nbformat": 4,
 "nbformat_minor": 4
}
