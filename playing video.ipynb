{
 "cells": [
  {
   "cell_type": "code",
   "execution_count": 1,
   "metadata": {},
   "outputs": [],
   "source": [
    "import cv2\n"
   ]
  },
  {
   "cell_type": "code",
   "execution_count": 2,
   "metadata": {},
   "outputs": [
    {
     "name": "stdout",
     "output_type": "stream",
     "text": [
      "True\n"
     ]
    }
   ],
   "source": [
    "webcam=cv2.VideoCapture(0)#started camera stored in webcam live camera\n",
    "ret, frame=webcam.read()#read webcam\n",
    "print(ret)\n",
    "webcam.release()"
   ]
  },
  {
   "cell_type": "code",
   "execution_count": 3,
   "metadata": {},
   "outputs": [],
   "source": [
    "cv2.imshow(\"myimage\",frame)\n",
    "cv2.waitKey()\n",
    "cv2.destroyAllWindows()"
   ]
  },
  {
   "cell_type": "code",
   "execution_count": 4,
   "metadata": {},
   "outputs": [],
   "source": [
    "webcam=cv2.VideoCapture(0)\n",
    "while True:\n",
    "    #capture frame by frame\n",
    "    ret, frame=webcam.read()\n",
    "    #our operations on the framecase here\n",
    "    gray=cv2.cvtColor(frame, cv2.COLOR_BGR2GRAY)\n",
    "    #displayresulting frame\n",
    "    cv2.imshow(\"live\", gray)\n",
    "    if cv2.waitKey(1) & 0xFF == ord('q'):#1milisec hault\n",
    "        break\n",
    "    elif cv2.waitKey(1) & 0xFF == ord('z'):\n",
    "        cv2.imwrite(\"myimage1.jpg\",frame)\n",
    "#when everything done release the capture\n",
    "webcam.release()\n",
    "cv2.destroyAllWindows()"
   ]
  },
  {
   "cell_type": "code",
   "execution_count": 5,
   "metadata": {},
   "outputs": [],
   "source": [
    "webcam.release()\n",
    "cv2.destroyAllWindows()"
   ]
  },
  {
   "cell_type": "code",
   "execution_count": 6,
   "metadata": {},
   "outputs": [],
   "source": [
    "facecasecade=cv2.CascadeClassifier('face.xml')"
   ]
  },
  {
   "cell_type": "code",
   "execution_count": 7,
   "metadata": {},
   "outputs": [],
   "source": [
    "font=cv2.FONT_HERSHEY_SIMPLEX\n",
    "fontscale=1\n",
    "webcam=cv2.VideoCapture(0)\n",
    "while (1):\n",
    "    ret, frame=webcam.read()\n",
    "    gray=cv2.cvtColor(frame, cv2.COLOR_BGR2GRAY)\n",
    "    faces=facecasecade.detectMultiScale(gray,scaleFactor=1.2, minNeighbors=5, #x+w, y+h\n",
    "                                    minSize=(20,20))\n",
    "    for (x,y,w,h) in faces:\n",
    "        cv2.rectangle(frame,(x,y),(x+w,y+h),(0,0,255),10)\n",
    "        cv2.putText(frame,\"Friend\",(x,y),font,fontscale,(255,0,0),2)\n",
    "    cv2.imshow(\"web\", frame)\n",
    "    if cv2.waitKey(1) & 0xFF == ord('q'):#1milisec hault\n",
    "        break\n",
    "   # elif cv2.waitKey(1) & 0xFF == ord('z'):\n",
    "    #    cv2.imwrite(\"myimage1.jpg\",frame)\n",
    "webcam.release()\n",
    "cv2.destroyAllWindows()"
   ]
  },
  {
   "cell_type": "markdown",
   "metadata": {},
   "source": [
    "#playing video from file\n"
   ]
  },
  {
   "cell_type": "code",
   "execution_count": 5,
   "metadata": {},
   "outputs": [
    {
     "name": "stdout",
     "output_type": "stream",
     "text": [
      "Can't receive frame (stream end?). Exiting ...\n"
     ]
    }
   ],
   "source": [
    "import cv2\n",
    "\n",
    "cap = cv2.VideoCapture('vt.mp4')\n",
    "\n",
    "while(cap.isOpened()):\n",
    "    ret, frame = cap.read()\n",
    "    #our operations on  the frame came here\n",
    "    if not ret:\n",
    "        print(\"Can't receive frame (stream end?). Exiting ...\")\n",
    "        break\n",
    "    gray=cv2.cvtColor(frame, cv2.COLOR_BGR2GRAY)\n",
    "    #display the resulting frame\n",
    "    cv2.imshow(\"goeduhub\", gray)\n",
    "    if cv2.waitKey(1) & 0xFF == ord('q'):\n",
    "        break\n",
    "\n",
    "#when everything done release the capture\n",
    "\n",
    "cap.release()\n",
    "\n",
    "cv2.destroyAllWindows() "
   ]
  },
  {
   "cell_type": "code",
   "execution_count": null,
   "metadata": {},
   "outputs": [],
   "source": []
  }
 ],
 "metadata": {
  "kernelspec": {
   "display_name": "Python 3 (ipykernel)",
   "language": "python",
   "name": "python3"
  },
  "language_info": {
   "codemirror_mode": {
    "name": "ipython",
    "version": 3
   },
   "file_extension": ".py",
   "mimetype": "text/x-python",
   "name": "python",
   "nbconvert_exporter": "python",
   "pygments_lexer": "ipython3",
   "version": "3.10.9"
  }
 },
 "nbformat": 4,
 "nbformat_minor": 4
}
